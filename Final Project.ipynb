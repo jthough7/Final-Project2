{
 "cells": [
  {
   "cell_type": "code",
   "execution_count": 46,
   "metadata": {},
   "outputs": [
    {
     "name": "stdout",
     "output_type": "stream",
     "text": [
      "[['Date', 'High Temp F', 'Humidity %'], ['1-Jan', '28', '47'], ['2-Jan', '36', '32'], ['3-Jan', '37', '28'], ['4-Jan', '34', '30'], ['5-Jan', '37', '27'], ['6-Jan', '39', '26'], ['7-Jan', '39', '29'], ['8-Jan', '41', '84'], ['9-Jan', '64', '73'], ['10-Jan', '64', '62'], ['11-Jan', '59', '98'], ['12-Jan', '57', '93'], ['13-Jan', '36', '63'], ['14-Jan', '39', '38'], ['15-Jan', '48', '38'], ['16-Jan', '48', '54'], ['17-Jan', '25', '51'], ['18-Jan', '41', '33'], ['19-Jan', '54', '16'], ['20-Jan', '63', '44'], ['21-Jan', '70', '44'], ['22-Jan', '61', '91'], ['23-Jan', '55', '40'], ['24-Jan', '54', '32'], ['25-Jan', '57', '24'], ['26-Jan', '57', '24'], ['27-Jan', '55', '90'], ['28-Jan', '55', '100'], ['29-Jan', '57', '33'], ['30-Jan', '45', '33'], ['31-Jan', '55', '23'], ['18-Feb', '63', '60'], ['2-Feb', '41', '29'], ['3-Feb', '48', '27'], ['4-Feb', '46', '93'], ['5-Feb', '52', '44'], ['6-Feb', '68', '47'], ['7-Feb', '63', '96'], ['8-Feb', '57', '38'], ['9-Feb', '63', '43'], ['10-Feb', '63', '99'], ['11-Feb', '66', '97'], ['12-Feb', '55', '83'], ['13-Feb', '55', '65'], ['14-Feb', '59', '87'], ['15-Feb', '70', '84'], ['16-Feb', '73', '69'], ['17-Feb', '79', '52'], ['18-Feb', '70', '62'], ['19-Feb', '75', '78'], ['20-Feb', '75', '72'], ['21-Feb', '77', '74'], ['22-Feb', '81', '60'], ['23-Feb', '79', '66'], ['24-Feb', '79', '48'], ['25-Feb', '63', '93'], ['26-Feb', '64', '71'], ['27-Feb', '64', '43'], ['28-Feb', '63', '94'], ['18-Mar', '61', '94'], ['2-Mar', '57', '29'], ['3-Mar', '63', '21'], ['4-Mar', '66', '18'], ['5-Mar', '61', '48'], ['6-Mar', '61', '84'], ['7-Mar', '50', '41'], ['8-Mar', '48', '39'], ['9-Mar', '61', '27'], ['10-Mar', '64', '61'], ['11-Mar', '57', '94'], ['12-Mar', '54', '52'], ['13-Mar', '54', '39'], ['14-Mar', '52', '25'], ['15-Mar', '68', '20'], ['16-Mar', '70', '35'], ['17-Mar', '75', '78'], ['18-Mar', '75', '30'], ['19-Mar', '63', '93'], ['20-Mar', '68', '68'], ['21-Mar', '50', '44'], ['22-Mar', '57', '34'], ['23-Mar', '63', '36'], ['24-Mar', '73', '54'], ['25-Mar', '50', '85'], ['26-Mar', '48', '45'], ['27-Mar', '59', '74'], ['28-Mar', '75', '50'], ['29-Mar', '75', '60'], ['30-Mar', '64', '55'], ['31-Mar', '70', '29']]\n",
      "[['Date', 'Low Temp F'], ['1-Jan', '23'], ['2-Jan', '30'], ['3-Jan', '34'], ['4-Jan', '28'], ['5-Jan', '34'], ['6-Jan', '34'], ['7-Jan', '36'], ['8-Jan', '37'], ['9-Jan', '55'], ['10-Jan', '61'], ['11-Jan', '57'], ['12-Jan', '43'], ['13-Jan', '28'], ['14-Jan', '36'], ['15-Jan', '43'], ['16-Jan', '43'], ['17-Jan', '19'], ['18-Jan', '36'], ['19-Jan', '48'], ['20-Jan', '57'], ['21-Jan', '64'], ['22-Jan', '61'], ['23-Jan', '52'], ['24-Jan', '50'], ['25-Jan', '54'], ['26-Jan', '54'], ['27-Jan', '54'], ['28-Jan', '54'], ['29-Jan', '54'], ['30-Jan', '43'], ['31-Jan', '48'], ['18-Feb', '61'], ['2-Feb', '37'], ['3-Feb', '45'], ['4-Feb', '43'], ['5-Feb', '43'], ['6-Feb', '55'], ['7-Feb', '54'], ['8-Feb', '52'], ['9-Feb', '59'], ['10-Feb', '57'], ['11-Feb', '64'], ['12-Feb', '54'], ['13-Feb', '52'], ['14-Feb', '55'], ['15-Feb', '64'], ['16-Feb', '66'], ['17-Feb', '77'], ['18-Feb', '61'], ['19-Feb', '63'], ['20-Feb', '68'], ['21-Feb', '72'], ['22-Feb', '75'], ['23-Feb', '70'], ['24-Feb', '77'], ['25-Feb', '61'], ['26-Feb', '61'], ['27-Feb', '63'], ['28-Feb', '55'], ['18-Mar', '57'], ['2-Mar', '55'], ['3-Mar', '59'], ['4-Mar', '63'], ['5-Mar', '57'], ['6-Mar', '54'], ['7-Mar', '46'], ['8-Mar', '45'], ['9-Mar', '54'], ['10-Mar', '59'], ['11-Mar', '55'], ['12-Mar', '43'], ['13-Mar', '46'], ['14-Mar', '45'], ['15-Mar', '61'], ['16-Mar', '66'], ['17-Mar', '59'], ['18-Mar', '70'], ['19-Mar', '61'], ['20-Mar', '54'], ['21-Mar', '45'], ['22-Mar', '50'], ['23-Mar', '55'], ['24-Mar', '63'], ['25-Mar', '45'], ['26-Mar', '48'], ['27-Mar', '50'], ['28-Mar', '73'], ['29-Mar', '70'], ['30-Mar', '61'], ['31-Mar', '63']]\n"
     ]
    }
   ],
   "source": [
    "def read_data(p): #defines what read data is\n",
    "\n",
    "    opener = open(p, 'rU').readlines() # '/r' kept giving errors\n",
    "    sorter = [] #initialize list\n",
    "\n",
    "    for row in opener:\n",
    "        sorter.append(row.strip().split(',')) # splits up data into rows\n",
    "    return sorter\n",
    "\n",
    "filename = \"C:/Users/jthou/Downloads/ProgrammingFinal.csv\"\n",
    "filename1 = \"C:/Users/jthou/Documents/Projectdata2.csv\"\n",
    "data = read_data(filename)\n",
    "data1 = read_data(filename1)\n",
    "print data\n",
    "print data1"
   ]
  },
  {
   "cell_type": "code",
   "execution_count": 53,
   "metadata": {},
   "outputs": [
    {
     "name": "stdout",
     "output_type": "stream",
     "text": [
      "[['Date', 'High Temp F', 'Humidity %', 'Low Temp F'], ['1-Jan', '28', '47', '23'], ['2-Jan', '36', '32', '30'], ['3-Jan', '37', '28', '34'], ['4-Jan', '34', '30', '28'], ['5-Jan', '37', '27', '34'], ['6-Jan', '39', '26', '34'], ['7-Jan', '39', '29', '36'], ['8-Jan', '41', '84', '37'], ['9-Jan', '64', '73', '55'], ['10-Jan', '64', '62', '61'], ['11-Jan', '59', '98', '57'], ['12-Jan', '57', '93', '43'], ['13-Jan', '36', '63', '28'], ['14-Jan', '39', '38', '36'], ['15-Jan', '48', '38', '43'], ['16-Jan', '48', '54', '43'], ['17-Jan', '25', '51', '19'], ['18-Jan', '41', '33', '36'], ['19-Jan', '54', '16', '48'], ['20-Jan', '63', '44', '57'], ['21-Jan', '70', '44', '64'], ['22-Jan', '61', '91', '61'], ['23-Jan', '55', '40', '52'], ['24-Jan', '54', '32', '50'], ['25-Jan', '57', '24', '54'], ['26-Jan', '57', '24', '54'], ['27-Jan', '55', '90', '54'], ['28-Jan', '55', '100', '54'], ['29-Jan', '57', '33', '54'], ['30-Jan', '45', '33', '43'], ['31-Jan', '55', '23', '48'], ['18-Feb', '63', '60', '61'], ['2-Feb', '41', '29', '37'], ['3-Feb', '48', '27', '45'], ['4-Feb', '46', '93', '43'], ['5-Feb', '52', '44', '43'], ['6-Feb', '68', '47', '55'], ['7-Feb', '63', '96', '54'], ['8-Feb', '57', '38', '52'], ['9-Feb', '63', '43', '59'], ['10-Feb', '63', '99', '57'], ['11-Feb', '66', '97', '64'], ['12-Feb', '55', '83', '54'], ['13-Feb', '55', '65', '52'], ['14-Feb', '59', '87', '55'], ['15-Feb', '70', '84', '64'], ['16-Feb', '73', '69', '66'], ['17-Feb', '79', '52', '77'], ['18-Feb', '70', '62', '61'], ['19-Feb', '75', '78', '63'], ['20-Feb', '75', '72', '68'], ['21-Feb', '77', '74', '72'], ['22-Feb', '81', '60', '75'], ['23-Feb', '79', '66', '70'], ['24-Feb', '79', '48', '77'], ['25-Feb', '63', '93', '61'], ['26-Feb', '64', '71', '61'], ['27-Feb', '64', '43', '63'], ['28-Feb', '63', '94', '55'], ['18-Mar', '61', '94', '57'], ['2-Mar', '57', '29', '55'], ['3-Mar', '63', '21', '59'], ['4-Mar', '66', '18', '63'], ['5-Mar', '61', '48', '57'], ['6-Mar', '61', '84', '54'], ['7-Mar', '50', '41', '46'], ['8-Mar', '48', '39', '45'], ['9-Mar', '61', '27', '54'], ['10-Mar', '64', '61', '59'], ['11-Mar', '57', '94', '55'], ['12-Mar', '54', '52', '43'], ['13-Mar', '54', '39', '46'], ['14-Mar', '52', '25', '45'], ['15-Mar', '68', '20', '61'], ['16-Mar', '70', '35', '66'], ['17-Mar', '75', '78', '59'], ['18-Mar', '75', '30', '70'], ['19-Mar', '63', '93', '61'], ['20-Mar', '68', '68', '54'], ['21-Mar', '50', '44', '45'], ['22-Mar', '57', '34', '50'], ['23-Mar', '63', '36', '55'], ['24-Mar', '73', '54', '63'], ['25-Mar', '50', '85', '45'], ['26-Mar', '48', '45', '48'], ['27-Mar', '59', '74', '50'], ['28-Mar', '75', '50', '73'], ['29-Mar', '75', '60', '70'], ['30-Mar', '64', '55', '61'], ['31-Mar', '70', '29', '63']]\n",
      "{'Date': ['1-Jan', '2-Jan', '3-Jan', '4-Jan', '5-Jan', '6-Jan', '7-Jan', '8-Jan', '9-Jan', '10-Jan', '11-Jan', '12-Jan', '13-Jan', '14-Jan', '15-Jan', '16-Jan', '17-Jan', '18-Jan', '19-Jan', '20-Jan', '21-Jan', '22-Jan', '23-Jan', '24-Jan', '25-Jan', '26-Jan', '27-Jan', '28-Jan', '29-Jan', '30-Jan', '31-Jan', '18-Feb', '2-Feb', '3-Feb', '4-Feb', '5-Feb', '6-Feb', '7-Feb', '8-Feb', '9-Feb', '10-Feb', '11-Feb', '12-Feb', '13-Feb', '14-Feb', '15-Feb', '16-Feb', '17-Feb', '18-Feb', '19-Feb', '20-Feb', '21-Feb', '22-Feb', '23-Feb', '24-Feb', '25-Feb', '26-Feb', '27-Feb', '28-Feb', '18-Mar', '2-Mar', '3-Mar', '4-Mar', '5-Mar', '6-Mar', '7-Mar', '8-Mar', '9-Mar', '10-Mar', '11-Mar', '12-Mar', '13-Mar', '14-Mar', '15-Mar', '16-Mar', '17-Mar', '18-Mar', '19-Mar', '20-Mar', '21-Mar', '22-Mar', '23-Mar', '24-Mar', '25-Mar', '26-Mar', '27-Mar', '28-Mar', '29-Mar', '30-Mar', '31-Mar'], 'Humidity %': [47.0, 32.0, 28.0, 30.0, 27.0, 26.0, 29.0, 84.0, 73.0, 62.0, 98.0, 93.0, 63.0, 38.0, 38.0, 54.0, 51.0, 33.0, 16.0, 44.0, 44.0, 91.0, 40.0, 32.0, 24.0, 24.0, 90.0, 100.0, 33.0, 33.0, 23.0, 60.0, 29.0, 27.0, 93.0, 44.0, 47.0, 96.0, 38.0, 43.0, 99.0, 97.0, 83.0, 65.0, 87.0, 84.0, 69.0, 52.0, 62.0, 78.0, 72.0, 74.0, 60.0, 66.0, 48.0, 93.0, 71.0, 43.0, 94.0, 94.0, 29.0, 21.0, 18.0, 48.0, 84.0, 41.0, 39.0, 27.0, 61.0, 94.0, 52.0, 39.0, 25.0, 20.0, 35.0, 78.0, 30.0, 93.0, 68.0, 44.0, 34.0, 36.0, 54.0, 85.0, 45.0, 74.0, 50.0, 60.0, 55.0, 29.0], 'High Temp F': [28.0, 36.0, 37.0, 34.0, 37.0, 39.0, 39.0, 41.0, 64.0, 64.0, 59.0, 57.0, 36.0, 39.0, 48.0, 48.0, 25.0, 41.0, 54.0, 63.0, 70.0, 61.0, 55.0, 54.0, 57.0, 57.0, 55.0, 55.0, 57.0, 45.0, 55.0, 63.0, 41.0, 48.0, 46.0, 52.0, 68.0, 63.0, 57.0, 63.0, 63.0, 66.0, 55.0, 55.0, 59.0, 70.0, 73.0, 79.0, 70.0, 75.0, 75.0, 77.0, 81.0, 79.0, 79.0, 63.0, 64.0, 64.0, 63.0, 61.0, 57.0, 63.0, 66.0, 61.0, 61.0, 50.0, 48.0, 61.0, 64.0, 57.0, 54.0, 54.0, 52.0, 68.0, 70.0, 75.0, 75.0, 63.0, 68.0, 50.0, 57.0, 63.0, 73.0, 50.0, 48.0, 59.0, 75.0, 75.0, 64.0, 70.0], 'Low Temp F': [23.0, 30.0, 34.0, 28.0, 34.0, 34.0, 36.0, 37.0, 55.0, 61.0, 57.0, 43.0, 28.0, 36.0, 43.0, 43.0, 19.0, 36.0, 48.0, 57.0, 64.0, 61.0, 52.0, 50.0, 54.0, 54.0, 54.0, 54.0, 54.0, 43.0, 48.0, 61.0, 37.0, 45.0, 43.0, 43.0, 55.0, 54.0, 52.0, 59.0, 57.0, 64.0, 54.0, 52.0, 55.0, 64.0, 66.0, 77.0, 61.0, 63.0, 68.0, 72.0, 75.0, 70.0, 77.0, 61.0, 61.0, 63.0, 55.0, 57.0, 55.0, 59.0, 63.0, 57.0, 54.0, 46.0, 45.0, 54.0, 59.0, 55.0, 43.0, 46.0, 45.0, 61.0, 66.0, 59.0, 70.0, 61.0, 54.0, 45.0, 50.0, 55.0, 63.0, 45.0, 48.0, 50.0, 73.0, 70.0, 61.0, 63.0]}\n"
     ]
    }
   ],
   "source": [
    "\n",
    "# initialize data to empty list\n",
    "\n",
    "x = 0\n",
    "big_data = []\n",
    "# go through every line in data\n",
    "for d1,d2 in zip(data,data1):\n",
    "    temp_line = [d1[0],d1[1],d1[2],d2[1]]\n",
    "    big_data.append(temp_line)\n",
    "print big_data\n",
    "# extract column names and create\n",
    "# a list of lists for the data\n",
    "# and a dictionary of lists for the data\n",
    "header = big_data[0]\n",
    "\n",
    "big_data_dict = {}\n",
    "for line in big_data[1:]:\n",
    "    for i,a in enumerate(header):\n",
    "        if a not in big_data_dict:\n",
    "            big_data_dict[a] = []\n",
    "        try: \n",
    "            big_data_dict[a].append(float(line[i]))\n",
    "        except ValueError:\n",
    "            big_data_dict[a].append(line[i])\n",
    "print big_data_dict    \n"
   ]
  },
  {
   "cell_type": "code",
   "execution_count": 55,
   "metadata": {},
   "outputs": [
    {
     "name": "stdout",
     "output_type": "stream",
     "text": [
      "[28.0, 36.0, 37.0, 34.0, 37.0, 39.0, 39.0, 41.0, 64.0, 64.0, 59.0, 57.0, 36.0, 39.0, 48.0, 48.0, 25.0, 41.0, 54.0, 63.0, 70.0, 61.0, 55.0, 54.0, 57.0, 57.0, 55.0, 55.0, 57.0, 45.0, 55.0, 63.0, 41.0, 48.0, 46.0, 52.0, 68.0, 63.0, 57.0, 63.0, 63.0, 66.0, 55.0, 55.0, 59.0, 70.0, 73.0, 79.0, 70.0, 75.0, 75.0, 77.0, 81.0, 79.0, 79.0, 63.0, 64.0, 64.0, 63.0, 61.0, 57.0, 63.0, 66.0, 61.0, 61.0, 50.0, 48.0, 61.0, 64.0, 57.0, 54.0, 54.0, 52.0, 68.0, 70.0, 75.0, 75.0, 63.0, 68.0, 50.0, 57.0, 63.0, 73.0, 50.0, 48.0, 59.0, 75.0, 75.0, 64.0, 70.0]\n",
      "58.1444444444\n",
      "81.0\n",
      "25.0\n",
      "50.5\n",
      "59.0\n",
      "65.5\n",
      "[23.0, 30.0, 34.0, 28.0, 34.0, 34.0, 36.0, 37.0, 55.0, 61.0, 57.0, 43.0, 28.0, 36.0, 43.0, 43.0, 19.0, 36.0, 48.0, 57.0, 64.0, 61.0, 52.0, 50.0, 54.0, 54.0, 54.0, 54.0, 54.0, 43.0, 48.0, 61.0, 37.0, 45.0, 43.0, 43.0, 55.0, 54.0, 52.0, 59.0, 57.0, 64.0, 54.0, 52.0, 55.0, 64.0, 66.0, 77.0, 61.0, 63.0, 68.0, 72.0, 75.0, 70.0, 77.0, 61.0, 61.0, 63.0, 55.0, 57.0, 55.0, 59.0, 63.0, 57.0, 54.0, 46.0, 45.0, 54.0, 59.0, 55.0, 43.0, 46.0, 45.0, 61.0, 66.0, 59.0, 70.0, 61.0, 54.0, 45.0, 50.0, 55.0, 63.0, 45.0, 48.0, 50.0, 73.0, 70.0, 61.0, 63.0]\n",
      "52.9555555556\n",
      "77.0\n",
      "19.0\n",
      "45.0\n",
      "54.0\n",
      "61.0\n",
      "[47.0, 32.0, 28.0, 30.0, 27.0, 26.0, 29.0, 84.0, 73.0, 62.0, 98.0, 93.0, 63.0, 38.0, 38.0, 54.0, 51.0, 33.0, 16.0, 44.0, 44.0, 91.0, 40.0, 32.0, 24.0, 24.0, 90.0, 100.0, 33.0, 33.0, 23.0, 60.0, 29.0, 27.0, 93.0, 44.0, 47.0, 96.0, 38.0, 43.0, 99.0, 97.0, 83.0, 65.0, 87.0, 84.0, 69.0, 52.0, 62.0, 78.0, 72.0, 74.0, 60.0, 66.0, 48.0, 93.0, 71.0, 43.0, 94.0, 94.0, 29.0, 21.0, 18.0, 48.0, 84.0, 41.0, 39.0, 27.0, 61.0, 94.0, 52.0, 39.0, 25.0, 20.0, 35.0, 78.0, 30.0, 93.0, 68.0, 44.0, 34.0, 36.0, 54.0, 85.0, 45.0, 74.0, 50.0, 60.0, 55.0, 29.0]\n",
      "54.8444444444\n",
      "100.0\n",
      "16.0\n",
      "33.0\n",
      "49.0\n",
      "74.0\n"
     ]
    }
   ],
   "source": [
    "def summarize_data(paper): #defines what summarize data is\\n\",\n",
    "    import numpy as np\n",
    "    header = paper[0]\n",
    "    print paper\n",
    "    print np.mean(paper)\n",
    "    print max(paper)\n",
    "    print min(paper)\n",
    "    print np.percentile(paper, 25)\n",
    "    print np.percentile(paper, 50)\n",
    "    print np.percentile(paper, 75)\n",
    "summarize_data(big_data_dict[\"High Temp F\"])\n",
    "summarize_data(big_data_dict[\"Low Temp F\"])\n",
    "summarize_data(big_data_dict[\"Humidity %\"])\n",
    "\n",
    "\n"
   ]
  },
  {
   "cell_type": "code",
   "execution_count": 58,
   "metadata": {},
   "outputs": [
    {
     "data": {
      "image/png": "[encoded data removed]",
      "text/plain": [
       "<matplotlib.figure.Figure at 0xa85ac88>"
      ]
     },
     "metadata": {},
     "output_type": "display_data"
    }
   ],
   "source": [
    "import matplotlib.pyplot as plt\n",
    "import numpy as np\n",
    "\n",
    "\n",
    "high_temp = big_data_dict['High Temp F']\n",
    "humidity = big_data_dict['Humidity %']\n",
    "\n",
    "#line of best fit\n",
    "best_fit = np.polyfit(humidity, high_temp, 1)\n",
    "fit_func = np.poly1d(best_fit)\n",
    "#plot the graph\n",
    "plt.plot(humidity , high_temp, 'r.', humidity , fit_func(humidity), '-')\n",
    "plt.title('High Temp in Fahrenheit vs. Humidity in Atlanta Georgia')\n",
    "plt.xlabel('High Temp')\n",
    "plt.ylabel('Humidity')\n",
    "plt.show()"
   ]
  },
  {
   "cell_type": "code",
   "execution_count": 61,
   "metadata": {},
   "outputs": [
    {
     "data": {
      "image/png": "[encoded data removed]",
      "text/plain": [
       "<matplotlib.figure.Figure at 0xab34710>"
      ]
     },
     "metadata": {},
     "output_type": "display_data"
    }
   ],
   "source": [
    "import matplotlib.pyplot as plt\n",
    "import numpy as np\n",
    "\n",
    "\n",
    "low_temp = big_data_dict['Low Temp F']\n",
    "humidity = big_data_dict['Humidity %']\n",
    "\n",
    "#line of best fit\n",
    "best_fit = np.polyfit(humidity, low_temp, 1)\n",
    "fit_func = np.poly1d(best_fit)\n",
    "#plot the graph\n",
    "plt.plot(humidity , low_temp, '.', humidity , fit_func(humidity), '-')\n",
    "plt.title('Low Temp in Fahrenheit vs. Humidity in Atlanta Georgia')\n",
    "plt.xlabel('Low Temp')\n",
    "plt.ylabel('Humidity')\n",
    "plt.show()"
   ]
  },
  {
   "cell_type": "code",
   "execution_count": null,
   "metadata": {
    "collapsed": true
   },
   "outputs": [],
   "source": []
  }
 ],
 "metadata": {
  "kernelspec": {
   "display_name": "Python 2",
   "language": "python",
   "name": "python2"
  },
  "language_info": {
   "codemirror_mode": {
    "name": "ipython",
    "version": 2
   },
   "file_extension": ".py",
   "mimetype": "text/x-python",
   "name": "python",
   "nbconvert_exporter": "python",
   "pygments_lexer": "ipython2",
   "version": "2.7.14"
  }
 },
 "nbformat": 4,
 "nbformat_minor": 2
}
